{
  "nbformat": 4,
  "nbformat_minor": 0,
  "metadata": {
    "colab": {
      "provenance": [],
      "authorship_tag": "ABX9TyOOt1jEa1D/h95vQMKWDokH",
      "include_colab_link": true
    },
    "kernelspec": {
      "name": "python3",
      "display_name": "Python 3"
    },
    "language_info": {
      "name": "python"
    }
  },
  "cells": [
    {
      "cell_type": "markdown",
      "metadata": {
        "id": "view-in-github",
        "colab_type": "text"
      },
      "source": [
        "<a href=\"https://colab.research.google.com/github/Afungchwi/WTMGDG-Bambili-30-Days-of-Code-Data-Science/blob/main/Day_4_30_List.ipynb\" target=\"_parent\"><img src=\"https://colab.research.google.com/assets/colab-badge.svg\" alt=\"Open In Colab\"/></a>"
      ]
    },
    {
      "cell_type": "code",
      "execution_count": 3,
      "metadata": {
        "id": "9ixeieRPY13e"
      },
      "outputs": [],
      "source": [
        "list1 = ['hello','i am', 'called', 'Olivian', 'Afungchwi', 3.5, 2.91, 4.9, 2.22, 3.57, 3, 6, 7, 8]"
      ]
    },
    {
      "cell_type": "code",
      "source": [
        "var1 = [\"Hello\" + \" world\"]\n",
        "list0 = list1 + var1\n",
        "print(list0)"
      ],
      "metadata": {
        "colab": {
          "base_uri": "https://localhost:8080/"
        },
        "id": "CJvd8XweZlL7",
        "outputId": "85a4d178-4b88-4ead-b283-9c2bcd8fd47e"
      },
      "execution_count": 4,
      "outputs": [
        {
          "output_type": "stream",
          "name": "stdout",
          "text": [
            "['hello', 'i am', 'called', 'Olivian', 'Afungchwi', 3.5, 2.91, 4.9, 2.22, 3.57, 3, 6, 7, 8, 'Hello world']\n"
          ]
        }
      ]
    },
    {
      "cell_type": "code",
      "source": [
        "list4 = [1,2,3,4,5,3.5,4.5,5.5,6.5,7.5,8.5,9.5,'we','are', 'the','wtm bili']"
      ],
      "metadata": {
        "id": "NyoGt7_HbBMT"
      },
      "execution_count": 6,
      "outputs": []
    },
    {
      "cell_type": "code",
      "source": [
        "list5 = list1 + list4\n",
        "print(list5)"
      ],
      "metadata": {
        "colab": {
          "base_uri": "https://localhost:8080/"
        },
        "id": "Q-49kCzGb3gt",
        "outputId": "89557b7f-33c1-4de9-c466-bd00cbc8ab22"
      },
      "execution_count": 7,
      "outputs": [
        {
          "output_type": "stream",
          "name": "stdout",
          "text": [
            "['hello', 'i am', 'called', 'Olivian', 'Afungchwi', 3.5, 2.91, 4.9, 2.22, 3.57, 3, 6, 7, 8, 1, 2, 3, 4, 5, 3.5, 4.5, 5.5, 6.5, 7.5, 8.5, 9.5, 'we', 'are', 'the', 'wtm bili']\n"
          ]
        }
      ]
    },
    {
      "cell_type": "code",
      "source": [
        "list2 = [ 5, 6, 7.0, \"Eight\", \"Nine\"]\n",
        "list3 = [type(item)for item in list2]\n",
        "print(list3)"
      ],
      "metadata": {
        "colab": {
          "base_uri": "https://localhost:8080/"
        },
        "id": "9ySyKjlUcO85",
        "outputId": "ac045d35-59c4-44b1-98ce-db779c99f470"
      },
      "execution_count": 12,
      "outputs": [
        {
          "output_type": "stream",
          "name": "stdout",
          "text": [
            "[<class 'int'>, <class 'int'>, <class 'float'>, <class 'str'>, <class 'str'>]\n"
          ]
        }
      ]
    }
  ]
}