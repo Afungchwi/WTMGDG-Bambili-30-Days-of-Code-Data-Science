{
  "nbformat": 4,
  "nbformat_minor": 0,
  "metadata": {
    "colab": {
      "provenance": [],
      "authorship_tag": "ABX9TyNchCpcS/i9WfO9c7n89Eia",
      "include_colab_link": true
    },
    "kernelspec": {
      "name": "python3",
      "display_name": "Python 3"
    },
    "language_info": {
      "name": "python"
    }
  },
  "cells": [
    {
      "cell_type": "markdown",
      "metadata": {
        "id": "view-in-github",
        "colab_type": "text"
      },
      "source": [
        "<a href=\"https://colab.research.google.com/github/Afungchwi/WTMGDG-Bambili-30-Days-of-Code-Data-Science/blob/main/Day_3_30_basicOperations.ipynb\" target=\"_parent\"><img src=\"https://colab.research.google.com/assets/colab-badge.svg\" alt=\"Open In Colab\"/></a>"
      ]
    },
    {
      "cell_type": "code",
      "execution_count": 1,
      "metadata": {
        "colab": {
          "base_uri": "https://localhost:8080/"
        },
        "id": "BGCHPpHZlSHD",
        "outputId": "a4f797c0-a4d4-4244-9a6e-2387a524ecf4"
      },
      "outputs": [
        {
          "output_type": "stream",
          "name": "stdout",
          "text": [
            "4\n"
          ]
        }
      ],
      "source": [
        "var1 = 2 + 2\n",
        "print (var1)"
      ]
    },
    {
      "cell_type": "markdown",
      "source": [
        "var1 add two numbers and the print keyword prints it out"
      ],
      "metadata": {
        "id": "kPy8k0jcl5a_"
      }
    },
    {
      "cell_type": "code",
      "source": [
        "var2 = 3 + 2/5\n",
        "print (var2)"
      ],
      "metadata": {
        "colab": {
          "base_uri": "https://localhost:8080/"
        },
        "id": "y-PodRTCmEPc",
        "outputId": "0827b836-e865-4570-b0ef-9ef1df13c1c5"
      },
      "execution_count": 1,
      "outputs": [
        {
          "output_type": "stream",
          "name": "stdout",
          "text": [
            "3.4\n"
          ]
        }
      ]
    },
    {
      "cell_type": "markdown",
      "source": [
        "var2 added a whole number to a fraction"
      ],
      "metadata": {
        "id": "l8LmpINGmjZ2"
      }
    },
    {
      "cell_type": "code",
      "source": [
        "var3 = 4 * 16\n",
        "print (var3)"
      ],
      "metadata": {
        "colab": {
          "base_uri": "https://localhost:8080/"
        },
        "id": "nO3tpMm1nRRt",
        "outputId": "970c194c-d77e-4a4c-f553-3034b097b98d"
      },
      "execution_count": 3,
      "outputs": [
        {
          "output_type": "stream",
          "name": "stdout",
          "text": [
            "64\n"
          ]
        }
      ]
    },
    {
      "cell_type": "markdown",
      "source": [
        "var3 does a multiplication "
      ],
      "metadata": {
        "id": "0IClQOHMnp5I"
      }
    },
    {
      "cell_type": "code",
      "source": [
        "var4 = 4 ** 6\n",
        "print (var4)"
      ],
      "metadata": {
        "colab": {
          "base_uri": "https://localhost:8080/"
        },
        "id": "zNmTd4SBn1WT",
        "outputId": "fd3123b2-fef4-4cf8-8a1e-508e5894e611"
      },
      "execution_count": 2,
      "outputs": [
        {
          "output_type": "stream",
          "name": "stdout",
          "text": [
            "4096\n"
          ]
        }
      ]
    },
    {
      "cell_type": "markdown",
      "source": [
        "var does a power function "
      ],
      "metadata": {
        "id": "qecjEayvoVG-"
      }
    },
    {
      "cell_type": "code",
      "source": [
        "var5 = 'Hello' + ' ' + 'World'\n",
        "print(var5)"
      ],
      "metadata": {
        "colab": {
          "base_uri": "https://localhost:8080/"
        },
        "id": "prTAm6ApoiMp",
        "outputId": "c499e8d0-dd09-4fc1-8225-d0740cc7c300"
      },
      "execution_count": 4,
      "outputs": [
        {
          "output_type": "stream",
          "name": "stdout",
          "text": [
            "Hello World\n"
          ]
        }
      ]
    },
    {
      "cell_type": "markdown",
      "source": [
        "var5 does a concantenation of strings"
      ],
      "metadata": {
        "id": "VHaiSTWfoqXU"
      }
    },
    {
      "cell_type": "code",
      "source": [
        "var6 = 'Hello World ' * 5\n",
        "print(var6)"
      ],
      "metadata": {
        "colab": {
          "base_uri": "https://localhost:8080/"
        },
        "id": "1Ho_6rEapcdH",
        "outputId": "fc695c4b-6dd2-4f33-b8e5-2790238d30fa"
      },
      "execution_count": 7,
      "outputs": [
        {
          "output_type": "stream",
          "name": "stdout",
          "text": [
            "Hello World Hello World Hello World Hello World Hello World \n"
          ]
        }
      ]
    },
    {
      "cell_type": "markdown",
      "source": [
        "var6 does multiplication of a string "
      ],
      "metadata": {
        "id": "Qkwb2Z2PplA6"
      }
    },
    {
      "cell_type": "code",
      "source": [
        "var7 = 4 % 3\n",
        "print (var7)"
      ],
      "metadata": {
        "colab": {
          "base_uri": "https://localhost:8080/"
        },
        "id": "0tD-NGLHqjK5",
        "outputId": "297ceabd-f9c5-4bcf-a307-b5ccf0127d28"
      },
      "execution_count": 10,
      "outputs": [
        {
          "output_type": "stream",
          "name": "stdout",
          "text": [
            "1\n"
          ]
        }
      ]
    },
    {
      "cell_type": "markdown",
      "source": [
        "var7 does the modulus of two number mod prints the remainder after division"
      ],
      "metadata": {
        "id": "kpVbUmu3qsbi"
      }
    }
  ]
}