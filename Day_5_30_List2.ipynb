{
  "nbformat": 4,
  "nbformat_minor": 0,
  "metadata": {
    "colab": {
      "provenance": [],
      "authorship_tag": "ABX9TyMMvzbZYfBd5TsLmJ3Q5Fn+",
      "include_colab_link": true
    },
    "kernelspec": {
      "name": "python3",
      "display_name": "Python 3"
    },
    "language_info": {
      "name": "python"
    }
  },
  "cells": [
    {
      "cell_type": "markdown",
      "metadata": {
        "id": "view-in-github",
        "colab_type": "text"
      },
      "source": [
        "<a href=\"https://colab.research.google.com/github/Afungchwi/WTMGDG-Bambili-30-Days-of-Code-Data-Science/blob/main/Day_5_30_List2.ipynb\" target=\"_parent\"><img src=\"https://colab.research.google.com/assets/colab-badge.svg\" alt=\"Open In Colab\"/></a>"
      ]
    },
    {
      "cell_type": "code",
      "execution_count": null,
      "metadata": {
        "colab": {
          "base_uri": "https://localhost:8080/"
        },
        "id": "3FOEYOpCd2jf",
        "outputId": "c453c329-7a02-4cbd-b5ae-8227aa1826bb"
      },
      "outputs": [
        {
          "output_type": "stream",
          "name": "stdout",
          "text": [
            "2\n"
          ]
        }
      ],
      "source": [
        "listIndex1 = [2,4,6,8,10]\n",
        "print(listIndex1[0])\n",
        "#we can not print the 9th element cause there are just 5 elements"
      ]
    },
    {
      "cell_type": "markdown",
      "source": [
        "since we are listing just even number to 10 there is no index of 5 9 or 12 when we try indexing them a have an error message."
      ],
      "metadata": {
        "id": "RLwUB9U8Y8Ps"
      }
    },
    {
      "cell_type": "code",
      "source": [
        "var1 = listIndex1[4]\n",
        "print(var1)"
      ],
      "metadata": {
        "colab": {
          "base_uri": "https://localhost:8080/"
        },
        "id": "22E-OrapemKH",
        "outputId": "ef3ddff9-c36d-4c9a-90f7-340f20b257a0"
      },
      "execution_count": null,
      "outputs": [
        {
          "output_type": "stream",
          "name": "stdout",
          "text": [
            "10\n"
          ]
        }
      ]
    },
    {
      "cell_type": "code",
      "source": [
        "listIndex1 = [2,4,6,8,10]\n",
        "listIndex2 = listIndex1[3:6]\n",
        "print (listIndex2)"
      ],
      "metadata": {
        "colab": {
          "base_uri": "https://localhost:8080/"
        },
        "id": "3xGlxQGsZWU1",
        "outputId": "565de4ef-f726-4768-dfc1-7af02272ce48"
      },
      "execution_count": 5,
      "outputs": [
        {
          "output_type": "stream",
          "name": "stdout",
          "text": [
            "[8, 10]\n"
          ]
        }
      ]
    }
  ]
}